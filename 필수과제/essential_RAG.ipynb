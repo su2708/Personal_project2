{
 "cells": [
  {
   "cell_type": "markdown",
   "metadata": {},
   "source": [
    "# Ch3 LLM, RAG 개인 필수과제"
   ]
  },
  {
   "cell_type": "markdown",
   "metadata": {},
   "source": [
    "### Goal: LLM과 RAG 기술을 활용해 사용자 질문에 답변하는 챗봇"
   ]
  },
  {
   "cell_type": "markdown",
   "metadata": {},
   "source": [
    "##### 1. 사용환경 준비"
   ]
  },
  {
   "cell_type": "code",
   "execution_count": null,
   "metadata": {},
   "outputs": [],
   "source": [
    "!pip install langchain langchain-openai langchain-community faiss-cpu\n",
    "!pip install -q pypdf"
   ]
  },
  {
   "cell_type": "code",
   "execution_count": null,
   "metadata": {},
   "outputs": [],
   "source": [
    "import os\n",
    "from getpass import getpass\n",
    "\n",
    "os.environ[\"KMP_DUPLICATE_LIB_OK\"] = \"True\"  # 라이브러리끼리의 충돌을 해결\n",
    "os.environ[\"OPENAI_API_KEY\"] = getpass(\"OpenAI API key 입력: \")"
   ]
  },
  {
   "cell_type": "markdown",
   "metadata": {},
   "source": [
    "##### 2. 모델 로드하기"
   ]
  },
  {
   "cell_type": "code",
   "execution_count": 3,
   "metadata": {},
   "outputs": [],
   "source": [
    "from langchain_openai import ChatOpenAI\n",
    "\n",
    "# 모델 초기화\n",
    "model = ChatOpenAI(model=\"gpt-4o-mini\")"
   ]
  },
  {
   "cell_type": "markdown",
   "metadata": {},
   "source": [
    "##### 3. 문서 로드하기"
   ]
  },
  {
   "cell_type": "code",
   "execution_count": 4,
   "metadata": {},
   "outputs": [],
   "source": [
    "from langchain_community.document_loaders import PyPDFLoader\n",
    "\n",
    "# PDF 파일 로드. 파일의 경로 입력\n",
    "loader = PyPDFLoader(\"files/인공지능산업최신동향_2024년_11월호.pdf\")\n",
    "\n",
    "# 페이지 별 문서 로드\n",
    "docs = loader.load()"
   ]
  },
  {
   "cell_type": "markdown",
   "metadata": {},
   "source": [
    "##### 4. 문서 청크로 나누기"
   ]
  },
  {
   "cell_type": "markdown",
   "metadata": {},
   "source": [
    "**CharacterTextSplitter**: 주어진 텍스트를 문자 단위로 분할하는 데 사용하는 클래스\n",
    "\n",
    "- `separator`: 분할된 각 청크를 구분할 때 기준이 되는 문자열\n",
    "- `chunk_size`: 각 청크의 최대 길이\n",
    "- `chunk_overlap`: 인접한 청크 사이에 중복으로 포함될 문자의 수\n",
    "- `length_function`: 청크의 길이를 계산하는 함수\n",
    "- `is_separator_regex`: 구분자로 정규식을 사용할지 여부를 설정"
   ]
  },
  {
   "cell_type": "code",
   "execution_count": null,
   "metadata": {},
   "outputs": [],
   "source": [
    "from langchain.text_splitter import CharacterTextSplitter\n",
    "\n",
    "text_splitter = CharacterTextSplitter(\n",
    "    separator=\"\\n\\n\",\n",
    "    chunk_size=100,\n",
    "    chunk_overlap=10,\n",
    "    length_function=len,\n",
    "    is_separator_regex=False,\n",
    ")\n",
    "\n",
    "splits = text_splitter.split_documents(docs)\n",
    "\n",
    "for i, chunk in enumerate(splits):\n",
    "    print(f\"id: {i+1} {chunk}\", end=\"\\n\\n\")\n",
    "    \n",
    "    # 청킹된 내용을 상위 50개까지 출력\n",
    "    if i+1 == 50:\n",
    "        break"
   ]
  },
  {
   "cell_type": "markdown",
   "metadata": {},
   "source": [
    "**RecursiveCharacterTextSplitter**\n",
    "- 주어진 문자 목록의 순서대로 청크가 충분히 작아질 때까지 재귀적으로 텍스트를 분할하는 클래스\n",
    "- 문자 목록을 매개변수로 받아 동작\n",
    "- 기본 문자 목록: \\[\"\\n\\n\", \"\\n\", \" \", \"\"\\] (default)\n",
    "- 텍스트를 재귀적으로 분할하여 의미적으로 관련있는 텍스트 조각들이 같이 있도록 하는 목적으로 설계됨\n",
    "\n",
    "---\n",
    "- `chunk_size`: 각 청크의 최대 길이\n",
    "- `chunk_overlap`: 인접한 청크 사이에 중복으로 포함될 문자의 수\n",
    "- `length_function`: 청크의 길이를 계산하는 함수\n",
    "- `is_separator_regex`: 구분자로 정규식을 사용할지 여부를 설정"
   ]
  },
  {
   "cell_type": "code",
   "execution_count": null,
   "metadata": {},
   "outputs": [],
   "source": [
    "from langchain.text_splitter import RecursiveCharacterTextSplitter\n",
    "\n",
    "recursive_text_splitter = RecursiveCharacterTextSplitter(\n",
    "    chunk_size=100,\n",
    "    chunk_overlap=10,\n",
    "    length_function=len,\n",
    "    is_separator_regex=False,\n",
    ")\n",
    "\n",
    "splits = recursive_text_splitter.split_documents(docs)\n",
    "\n",
    "for i, chunk in enumerate(splits):\n",
    "    print(f\"id: {i+1} {chunk}\", end=\"\\n\\n\")\n",
    "    \n",
    "    # 청킹된 내용을 상위 50개까지 출력\n",
    "    if i+1 == 50:\n",
    "        break"
   ]
  },
  {
   "cell_type": "markdown",
   "metadata": {},
   "source": [
    "##### 5. 벡터 임베딩 생성"
   ]
  },
  {
   "cell_type": "code",
   "execution_count": null,
   "metadata": {},
   "outputs": [],
   "source": [
    "from langchain_openai import OpenAIEmbeddings\n",
    "\n",
    "# OpenAI 임베딩 모델 초기화\n",
    "embeddings = OpenAIEmbeddings(model=\"text-embedding-ada-002\")"
   ]
  },
  {
   "cell_type": "markdown",
   "metadata": {},
   "source": [
    "##### 6. 벡터 스토어 생성"
   ]
  },
  {
   "cell_type": "code",
   "execution_count": 8,
   "metadata": {},
   "outputs": [],
   "source": [
    "from langchain_community.vectorstores import FAISS\n",
    "\n",
    "\n",
    "vectorstore = FAISS.from_documents(documents=splits, embedding=embeddings)"
   ]
  },
  {
   "cell_type": "markdown",
   "metadata": {},
   "source": [
    "##### 7. FAISS를 Retriever로 변환"
   ]
  },
  {
   "cell_type": "code",
   "execution_count": 9,
   "metadata": {},
   "outputs": [],
   "source": [
    "retriever = vectorstore.as_retriever(search_type=\"similarity\", search_kwargs={\"k\": 1})"
   ]
  },
  {
   "cell_type": "markdown",
   "metadata": {},
   "source": [
    "##### 8. 프롬프트 템플릿 정의"
   ]
  },
  {
   "cell_type": "code",
   "execution_count": 10,
   "metadata": {},
   "outputs": [],
   "source": [
    "from langchain_core.prompts import ChatPromptTemplate\n",
    "\n",
    "# 프롬프트 템플릿 정의\n",
    "contextual_prompt = ChatPromptTemplate.from_messages([\n",
    "    (\"system\", \"Answer the question using only the following context.\"),\n",
    "    (\"user\", \"Context: {context}\\\\n\\\\nQuestion: {question}\")\n",
    "])"
   ]
  },
  {
   "cell_type": "markdown",
   "metadata": {},
   "source": [
    "##### 9. RAG 체인 구성"
   ]
  },
  {
   "cell_type": "code",
   "execution_count": 11,
   "metadata": {},
   "outputs": [],
   "source": [
    "from langchain_core.runnables import RunnablePassthrough\n",
    "\n",
    "class DebugPassThrough(RunnablePassthrough):\n",
    "    def invoke(self, *args, **kwargs):\n",
    "        output = super().invoke(*args, **kwargs)\n",
    "        print(\"Debug Output:\", output)\n",
    "        return output\n",
    "# 문서 리스트를 텍스트로 변환하는 단계 추가\n",
    "class ContextToText(RunnablePassthrough):\n",
    "    def invoke(self, inputs, config=None, **kwargs):  # config 인수 추가\n",
    "        # context의 각 문서를 문자열로 결합\n",
    "        context_text = \"\\n\".join([doc.page_content for doc in inputs[\"context\"]])\n",
    "        return {\"context\": context_text, \"question\": inputs[\"question\"]}\n",
    "\n",
    "# RAG 체인에서 각 단계마다 DebugPassThrough 추가\n",
    "rag_chain_debug = {\n",
    "    \"context\": retriever,                    # 컨텍스트를 가져오는 retriever\n",
    "    \"question\": DebugPassThrough()        # 사용자 질문이 그대로 전달되는지 확인하는 passthrough\n",
    "}  | DebugPassThrough() | ContextToText() | contextual_prompt | model\n"
   ]
  },
  {
   "cell_type": "markdown",
   "metadata": {},
   "source": [
    "##### 10. 챗봇 구동 확인"
   ]
  },
  {
   "cell_type": "code",
   "execution_count": 36,
   "metadata": {},
   "outputs": [
    {
     "name": "stdout",
     "output_type": "stream",
     "text": [
      "========================\n",
      "Debug Output: 일본 AI 안전연구소에서 발간한 AI 안정성 평가 가이드에 대해 요약해줘.\n",
      "Debug Output: {'context': [Document(metadata={'source': 'files/인공지능산업최신동향_2024년_11월호.pdf', 'page': 16}, page_content='일본 AI안전연구소, AI 안전성에 대한 평가 관점 가이드 발간n일본 AI안전연구소는 AI 개발자나 제공자가 안전성 평가에 참조할 수 있는 ‘AI 안전성에 대한 평가 관점')], 'question': '일본 AI 안전연구소에서 발간한 AI 안정성 평가 가이드에 대해 요약해줘.'}\n",
      "Final Response:\n",
      "일본 AI안전연구소는 AI 개발자와 제공자가 AI 안전성 평가에 참고할 수 있는 가이드를 발간했습니다. 이 가이드는 AI의 안전성을 평가하는 다양한 관점을 제시하여, AI 시스템의 신뢰성과 안정성을 높이는 데 도움을 주고자 합니다.\n",
      "========================\n",
      "Debug Output: 인공지능 산업에 대한 미국의 정책들을 요약해서 설명해줘\n",
      "Debug Output: {'context': [Document(metadata={'source': 'files/인공지능산업최신동향_2024년_11월호.pdf', 'page': 1}, page_content='Ⅰ. 인공지능 산업 동향 브리프 1. 정책/법제    ▹ 미국 민권위원회, 연방정부의 얼굴인식 기술 사용에 따른 민권 영향 분석························1')], 'question': '인공지능 산업에 대한 미국의 정책들을 요약해서 설명해줘'}\n",
      "Final Response:\n",
      "미국의 인공지능 산업에 대한 정책들은 주로 민권과 관련된 이슈를 다루고 있습니다. 특히, 미국 민권위원회는 연방정부의 얼굴인식 기술 사용이 개인의 민권에 미치는 영향을 분석하고 있습니다. 이는 인공지능 기술의 사용이 개인의 자유와 권리에 어떤 영향을 미치는지를 평가하려는 노력을 반영합니다.\n",
      "========================\n",
      "Debug Output: 한국 기업인 카카오에서 제공하는 AI 서비스를 간단히 소개해줘\n",
      "Debug Output: {'context': [Document(metadata={'source': 'files/인공지능산업최신동향_2024년_11월호.pdf', 'page': 13}, page_content='카카오, 통합 AI 브랜드 겸 신규 AI 서비스 ‘카나나’ 공개n카카오가 대화의 맥락 속에서 주요 정보를 기억해 이용자에게 최적화된 답변을 제공하는 AI 메이트 서비스인')], 'question': '한국 기업인 카카오에서 제공하는 AI 서비스를 간단히 소개해줘'}\n",
      "Final Response:\n",
      "카카오는 '카나나'라는 통합 AI 브랜드를 통해 대화의 맥락을 기억하며 이용자에게 최적화된 답변을 제공하는 AI 메이트 서비스를 공개했습니다.\n"
     ]
    }
   ],
   "source": [
    "i=0\n",
    "while i<3:\n",
    "\tprint(\"========================\")\n",
    "\tquery = input(\"질문을 입력하세요: \")\n",
    "\tresponse = rag_chain_debug.invoke(query)\n",
    "\tprint(\"Final Response:\")\n",
    "\tprint(response.content)\n",
    "\ti += 1"
   ]
  },
  {
   "cell_type": "code",
   "execution_count": 39,
   "metadata": {},
   "outputs": [
    {
     "name": "stdout",
     "output_type": "stream",
     "text": [
      "========================\n",
      "query: 일본 AI 안전연구소에서 발간한 AI 안정성 평가 가이드에 대해 요약해줘.\n",
      "Final Response:\n",
      "일본 AI 안전연구소에서 발간한 AI 안정성 평가 가이드는 인공지능 시스템의 안전성과 신뢰성을 확보하기 위한 지침을 제공합니다. 이 가이드는 다음과 같은 주요 내용을 포함하고 있습니다:\n",
      "\n",
      "1. **안전성 기준**: AI 시스템이 충족해야 할 기본적인 안전성 기준과 요구사항을 정의합니다. 이는 시스템의 설계, 개발, 운영 과정에서 고려해야 할 요소들입니다.\n",
      "\n",
      "2. **위험 평가**: AI 시스템이 실제 환경에서 발생할 수 있는 위험 요소를 식별하고 평가하는 방법론을 제시합니다. 이를 통해 잠재적인 위험을 사전에 인지하고 대응할 수 있도록 합니다.\n",
      "\n",
      "3. **테스트 및 검증**: AI 시스템의 안전성을 확보하기 위해 필요한 테스트 및 검증 절차를 설명합니다. 이는 다양한 시나리오와 조건에서 시스템의 성능을 검토하는 데 중점을 둡니다.\n",
      "\n",
      "4. **모니터링 및 피드백**: AI 시스템이 운영되는 동안 지속적으로 모니터링하고, 발생하는 문제에 대한 피드백을 통해 개선할 수 있는 방법을 제안합니다.\n",
      "\n",
      "5. **법적 및 윤리적 고려사항**: AI 시스템의 안전성을 평가하는 과정에서 법적, 윤리적 측면도 고려해야 한다는 점을 강조합니다. 이는 사회적 신뢰를 구축하는 데 중요한 요소입니다.\n",
      "\n",
      "이 가이드는 AI 기술이 점점 더 많은 분야에 적용됨에 따라, 그 안전성과 신뢰성을 확보하는 데 기여하고자 하는 목적을 가지고 있습니다.\n",
      "========================\n",
      "query: 인공지능 산업에 대한 미국의 정책들을 요약해서 설명해줘\n",
      "Final Response:\n",
      "미국의 인공지능(AI) 산업에 대한 정책은 여러 가지 주요 방향성과 목표를 가지고 있습니다. 다음은 이러한 정책들을 요약한 내용입니다.\n",
      "\n",
      "1. **AI 연구 및 개발 지원**: 미국 정부는 AI 기술의 연구와 개발을 촉진하기 위해 대규모 자금을 지원하고 있습니다. 이를 통해 AI의 혁신을 가속화하고, 경쟁력을 유지하고자 합니다. 예를 들어, 국립과학재단(NSF)과 국방부(DoD) 등이 AI 관련 연구 프로젝트에 자금을 지원하고 있습니다.\n",
      "\n",
      "2. **AI 윤리 및 안전성**: AI 기술의 발전과 함께 윤리적 문제와 안전성에 대한 우려가 커지고 있습니다. 미국 정부는 AI의 윤리적 사용과 안전성을 보장하기 위해 가이드라인을 마련하고, 기업들이 책임감 있게 AI를 개발하고 사용할 수 있도록 유도하고 있습니다.\n",
      "\n",
      "3. **국제 협력**: AI는 글로벌 이슈이기 때문에, 미국은 다른 국가들과 협력하여 AI 기술의 발전 방향과 규제를 논의하고 있습니다. 이를 통해 국제적인 기준을 마련하고, AI 기술의 안전한 사용을 촉진하고자 합니다.\n",
      "\n",
      "4. **경제적 기회 창출**: AI 기술이 경제에 미치는 긍정적인 영향을 극대화하기 위해, 미국 정부는 AI 기술이 창출할 수 있는 일자리와 산업 발전을 지원하는 정책을 추진하고 있습니다. 이를 통해 AI가 경제 성장에 기여할 수 있도록 노력하고 있습니다.\n",
      "\n",
      "5. **교육 및 인력 개발**: AI 산업의 발전을 위해 필요한 인재를 양성하기 위한 교육 프로그램과 정책도 중요시하고 있습니다. STEM(과학, 기술, 공학, 수학) 교육을 강조하고, AI 관련 교육 커리큘럼을 확충하여 인력 부족 문제를 해결하고자 합니다.\n",
      "\n",
      "이러한 정책들은 미국이 AI 분야에서의 리더십을 유지하고, 기술 발전에 따른 사회적, 경제적 변화를 효과적으로 관리하기 위한 노력의 일환으로 볼 수 있습니다.\n",
      "========================\n",
      "query: 한국 기업인 카카오에서 제공하는 AI 서비스를 간단히 소개해줘\n",
      "Final Response:\n",
      "카카오는 다양한 AI 서비스를 제공하고 있습니다. 그 중 몇 가지 주요 서비스를 소개하자면:\n",
      "\n",
      "1. **카카오톡 챗봇**: 카카오톡 플랫폼 내에서 사용자가 원하는 정보를 제공하거나 고객 서비스를 지원하기 위한 챗봇을 만들 수 있습니다. 이는 기업들이 고객과의 소통을 효율적으로 관리할 수 있도록 도와줍니다.\n",
      "\n",
      "2. **카카오 i**: 카카오는 인공지능 플랫폼인 '카카오 i'를 통해 음성 인식, 자연어 처리, 이미지 인식 등의 AI 기술을 제공합니다. 이를 통해 다양한 애플리케이션에서 AI 기능을 활용할 수 있습니다.\n",
      "\n",
      "3. **카카오 클라우드 AI**: 클라우드 기반의 AI 서비스로, 기업들이 데이터 분석, 머신러닝 모델 개발 등을 할 수 있도록 지원합니다. 이를 통해 기업은 자체 AI 솔루션을 구축하고 운영할 수 있습니다.\n",
      "\n",
      "4. **카카오 음성 비서**: 카카오는 음성 인식 기술을 활용해 사용자가 음성으로 명령을 내리면 다양한 서비스를 제공하는 음성 비서를 운영하고 있습니다.\n",
      "\n",
      "이 외에도 카카오는 다양한 AI 기술을 활용하여 사용자 경험을 개선하고, 기업의 효율성을 높이는 다양한 솔루션을 개발하고 있습니다.\n"
     ]
    }
   ],
   "source": [
    "# 일반 ChatGPT와 답변 비교\n",
    "llm = ChatOpenAI(model=\"gpt-4o-mini\")\n",
    "\n",
    "for i in range(3):\n",
    "    print(\"========================\")\n",
    "    query = input(\"질문을 입력하세요: \")\n",
    "    print(f\"query: {query}\")\n",
    "    response = llm.invoke(query)\n",
    "    print(\"Final Response:\")\n",
    "    print(response.content)"
   ]
  },
  {
   "cell_type": "markdown",
   "metadata": {},
   "source": [
    "***RAG VS 일반 GPT***\n",
    "\n",
    "1. 정보 접근\n",
    "- 일반 GPT 모델\n",
    "    - 사전에 학습된 데이터에 의존하여 대답\n",
    "    - 사전 학습 데이터 이후의 정보 혹은 학습된 지식을 뛰어 넘는 정보에 대한 질문은 답변하기 어려움\n",
    "- RAG 모델\n",
    "    - 외부 검색 시스템이나 데이터베이스로부터 <span style=\"color:lime\">필요한 정보를 검색</span>하여 응답 생성에 활용\n",
    "    - 일반 GPT 모델보다 최신 정보를 제공하기에 알맞음\n",
    "\n",
    "2. 데이터 출처의 신뢰성\n",
    "- 일반 GPT 모델\n",
    "    - 학습된 정보를 바탕으로 추론을 하므로, 정보의 출처를 명확히 제시할 수 없고 특정한 사실에 대해 신뢰도가 떨어질 수 있음\n",
    "- RAG 모델\n",
    "    - 필요한 정보를 검색하는 과정을 거치므로, 정보의 출처를 확인할 수 있고 검색된 자료의 신뢰도를 판단할 수 있음\n",
    "\n",
    "3. 학습된 지식 업데이트\n",
    "- 일반 GPT 모델\n",
    "    - 모델을 다시 훈련하지 않는 이상 지식이 업데이트 되지 않음\n",
    "- RAG 모델\n",
    "    - 새로운 정보를 검색함으로써 지식의 업데이트 없이도 실시간 데이터에 접근 가능\n",
    "\n",
    "4. 요약\n",
    "- **최신 정보나 특정 지식을 필요로 하는 경우, 한정된 지식으로 인해 생길 수 있는 문제를 해소하고 보다 신뢰성 높은 정보를 제공하기 위해 RAG 모델이 필요**\n",
    "- RAG 모델은 카카오의 신규 AI 서비스인 카나나에 대해 잘 설명한 반면, 일반 모델은 그렇지 못함"
   ]
  }
 ],
 "metadata": {
  "kernelspec": {
   "display_name": "Python 3",
   "language": "python",
   "name": "python3"
  },
  "language_info": {
   "codemirror_mode": {
    "name": "ipython",
    "version": 3
   },
   "file_extension": ".py",
   "mimetype": "text/x-python",
   "name": "python",
   "nbconvert_exporter": "python",
   "pygments_lexer": "ipython3",
   "version": "3.11.10"
  }
 },
 "nbformat": 4,
 "nbformat_minor": 2
}
